{
 "cells": [
  {
   "cell_type": "markdown",
   "metadata": {},
   "source": [
    "1) The function \"echo_name\" takes 2 parameters: a string value, \"name1\"and an integer value, \"echo_int\". It returns a string that is a concatenation of \"echo_int\" copies of \"name1\". \n",
    "\n",
    "Your task is to convert this simple function into a lambda function.\n",
    "\n",
    "Instructions: Define the lambda function \"echo_name\" using the variables \"name1\" and \" echo_int\". Replicate what the original function definition for \"echo_name()\" does above. \n",
    "Call \"echo_name ()\" with the string argument 'acadgild' and the value 5, in that order. Assign the call to result\n",
    "\n",
    "Expected Output \n",
    "acadgildacadgildacadgildacadgildacadgild\n"
   ]
  },
  {
   "cell_type": "code",
   "execution_count": 1,
   "metadata": {},
   "outputs": [
    {
     "name": "stdout",
     "output_type": "stream",
     "text": [
      "acadgildacadgildacadgildacadgildacadgild\n"
     ]
    }
   ],
   "source": [
    "# Define a lambda function: echo_name\n",
    "echo_name = (lambda name1, echo_int: name1 * echo_int)\n",
    "# Call echo_name with parameters (\"acadgild\",5) \n",
    "result = echo_name (\"acadgild\",5)\n",
    "# Print result \n",
    "print(result)"
   ]
  },
  {
   "cell_type": "code",
   "execution_count": 2,
   "metadata": {},
   "outputs": [
    {
     "data": {
      "text/plain": [
       "'acadgildacadgildacadgildacadgildacadgild'"
      ]
     },
     "execution_count": 2,
     "metadata": {},
     "output_type": "execute_result"
    }
   ],
   "source": [
    "def echo_name(name1, echo_int):\n",
    "    return name1 * echo_int\n",
    "\n",
    "echo_name('acadgild', 5)"
   ]
  },
  {
   "cell_type": "code",
   "execution_count": 3,
   "metadata": {},
   "outputs": [
    {
     "data": {
      "text/plain": [
       "['acadgildacadgildacadgildacadgildacadgild']"
      ]
     },
     "execution_count": 3,
     "metadata": {},
     "output_type": "execute_result"
    }
   ],
   "source": [
    "lst1 = ['acadgild']\n",
    "lst2 = [5]\n",
    "echo_name = lambda name1, echo_int: name1 * echo_int\n",
    "list(map(echo_name, lst1, lst2))"
   ]
  },
  {
   "cell_type": "code",
   "execution_count": 4,
   "metadata": {},
   "outputs": [
    {
     "data": {
      "text/plain": [
       "['acadgildacadgildacadgildacadgildacadgild']"
      ]
     },
     "execution_count": 4,
     "metadata": {},
     "output_type": "execute_result"
    }
   ],
   "source": [
    "lst = [\"acadgild\"]\n",
    "echo_name = lambda name1: name1 * 5\n",
    "\n",
    "list(map(echo_name, lst))"
   ]
  },
  {
   "cell_type": "markdown",
   "metadata": {},
   "source": [
    "2) Convert temperature in Celsius to Fahrenheit using map() and lambda functions \n",
    "\n",
    " Sample input    Celsius = [49.2, 26.5, 47.3, 47.8]\n",
    " \n",
    " Expected Output    [120.56, 79.7, 117.14, 118.03999999999999]\n"
   ]
  },
  {
   "cell_type": "code",
   "execution_count": 5,
   "metadata": {},
   "outputs": [
    {
     "name": "stdout",
     "output_type": "stream",
     "text": [
      "[120.56, 79.7, 117.14, 118.03999999999999]\n"
     ]
    }
   ],
   "source": [
    "# Initialze list \n",
    "Celsius =  [49.2, 26.5, 47.3, 47.8]\n",
    "#use map() and lambda,convert to Fahrenheit \n",
    "#map(function,list)\n",
    "Fahrenheit = list(map(lambda a: (float(9)/5)*a + 32, Celsius))\n",
    "#print Fahrenheit \n",
    "print(Fahrenheit)"
   ]
  },
  {
   "cell_type": "markdown",
   "metadata": {},
   "source": [
    "3) The function filter(function, list) filters out all the elements of a list, for which the function function returns True. The function filter(f,l) needs a function f as its first argument. f re turns a Boolean value, i.e. either True or False. This function will be applied to every element of the list l. Only if f returns True will the element of the list be included in the result list \n",
    "\n",
    "Q. print the letters that are vowels using filter and lambda functions\n",
    " \n",
    " sample_string = \"Welcome to AcadGild\"\n",
    " \n",
    " Expected Output:\n",
    " ['e', 'o', 'e', 'o', 'A', 'a', 'i']\n"
   ]
  },
  {
   "cell_type": "code",
   "execution_count": 6,
   "metadata": {},
   "outputs": [
    {
     "data": {
      "text/plain": [
       "['e', 'o', 'e', 'o', 'A', 'a', 'i']"
      ]
     },
     "execution_count": 6,
     "metadata": {},
     "output_type": "execute_result"
    }
   ],
   "source": [
    "string = \"Welcome to AcadGild\"\n",
    "vowels = ['a','e','i','o','u']\n",
    "\n",
    "list(filter(lambda x : x.lower() in vowels, string))"
   ]
  },
  {
   "cell_type": "markdown",
   "metadata": {},
   "source": [
    "4) Use generator expression to print out only alphabets from the following string        \n",
    "\n",
    "string = \"123@Welc34ometo12@ac#adGild\"\n",
    "\n",
    "Output: 'WelcometoacadGild'"
   ]
  },
  {
   "cell_type": "code",
   "execution_count": 7,
   "metadata": {},
   "outputs": [
    {
     "name": "stdout",
     "output_type": "stream",
     "text": [
      "WelcometoacadGild"
     ]
    }
   ],
   "source": [
    "string = \"123@Welc34ometo12@ac#adGild\"\n",
    "\n",
    "filterObj = filter(lambda x : x.isalpha(), string)\n",
    "for letter in filterObj:\n",
    "    print(letter, end=\"\")"
   ]
  },
  {
   "cell_type": "markdown",
   "metadata": {},
   "source": [
    "5) Implement a function longestWord() that takes a list of words and returns the longest one.\n",
    "\n",
    "Sample Word List word= [\"January\",\"Feburary\",\"March\",\"April\",\"May\",\"June\",\"July\"]\n",
    "\n",
    "Expected Output    ['Feburary']\n"
   ]
  },
  {
   "cell_type": "code",
   "execution_count": 8,
   "metadata": {},
   "outputs": [
    {
     "name": "stdout",
     "output_type": "stream",
     "text": [
      "['Feburary']\n"
     ]
    }
   ],
   "source": [
    "# Initialize the list \n",
    "word=  [\"January\",\"Feburary\",\"March\",\"April\",\"May\",\"June\",\"July\"]\n",
    "#define function named longestWord with one parameter (arg_word) \n",
    "def longestWord(arg_word):\n",
    "    #use len(max()) to apply the logic \n",
    "    max_len = len(max(arg_word, key=len))\n",
    "    # iterate over the list arg_word and check which word has length = max_len and print \n",
    "    return [x for x in arg_word if len(x) == max_len]\n",
    "#function call : longestWord and pass the list \"word\" as the parameter \n",
    "print(longestWord(word))"
   ]
  },
  {
   "cell_type": "code",
   "execution_count": 9,
   "metadata": {},
   "outputs": [
    {
     "data": {
      "text/plain": [
       "'Feburary'"
      ]
     },
     "execution_count": 9,
     "metadata": {},
     "output_type": "execute_result"
    }
   ],
   "source": [
    "def longestWord(lst):\n",
    "    dic = {}\n",
    "    for word in lst:\n",
    "        dic[len(word)] = word\n",
    "    return dic[max(dic.keys())]\n",
    "    \n",
    "words = [\"January\",\"Feburary\",\"March\",\"April\",\"May\",\"June\",\"July\"]\n",
    "longestWord(words)"
   ]
  },
  {
   "cell_type": "code",
   "execution_count": 10,
   "metadata": {},
   "outputs": [
    {
     "data": {
      "text/plain": [
       "'Feburary'"
      ]
     },
     "execution_count": 10,
     "metadata": {},
     "output_type": "execute_result"
    }
   ],
   "source": [
    "words = [\"January\",\"Feburary\",\"March\",\"April\",\"May\",\"June\",\"July\"]\n",
    "\n",
    "max(words, key=len)"
   ]
  }
 ],
 "metadata": {
  "kernelspec": {
   "display_name": "Python 3",
   "language": "python",
   "name": "python3"
  },
  "language_info": {
   "codemirror_mode": {
    "name": "ipython",
    "version": 3
   },
   "file_extension": ".py",
   "mimetype": "text/x-python",
   "name": "python",
   "nbconvert_exporter": "python",
   "pygments_lexer": "ipython3",
   "version": "3.7.0"
  }
 },
 "nbformat": 4,
 "nbformat_minor": 2
}
